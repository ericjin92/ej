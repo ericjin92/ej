{
  "nbformat": 4,
  "nbformat_minor": 0,
  "metadata": {
    "colab": {
      "provenance": [],
      "collapsed_sections": [
        "aIPHCfgvJefP",
        "lANoTpS60LSo",
        "_TM_wtcQze90"
      ],
      "include_colab_link": true
    },
    "kernelspec": {
      "name": "python3",
      "display_name": "Python 3"
    },
    "language_info": {
      "name": "python"
    }
  },
  "cells": [
    {
      "cell_type": "markdown",
      "metadata": {
        "id": "view-in-github",
        "colab_type": "text"
      },
      "source": [
        "<a href=\"https://colab.research.google.com/github/ericjin92/ej/blob/main/Steam_%E7%86%B1%E9%96%80%E9%81%8A%E6%88%B2%E6%8E%92%E8%A1%8C%E6%A6%9C%E8%88%87%E5%83%B9%E6%A0%BC%E8%B3%87%E8%A8%8A%E8%92%90%E9%9B%86%E5%AF%A6%E4%BD%9C.ipynb\" target=\"_parent\"><img src=\"https://colab.research.google.com/assets/colab-badge.svg\" alt=\"Open In Colab\"/></a>"
      ]
    },
    {
      "cell_type": "markdown",
      "source": [
        "# HW02 Web Crawler"
      ],
      "metadata": {
        "id": "eo72fZ0YlURV"
      }
    },
    {
      "cell_type": "markdown",
      "source": [
        "## Steam 熱門遊戲排行榜與價格資訊蒐集實作"
      ],
      "metadata": {
        "id": "gUsBAopRJMJD"
      }
    },
    {
      "cell_type": "markdown",
      "source": [
        "以 Steam 官方網站及第三方平台為主要資料來源，透過網頁爬蟲技術蒐集多項遊戲趨勢、價格與評價資訊，進一步分析全球steam遊戲市場熱度、價格變化與玩家偏好，為遊戲行銷與消費行為研究提供實證依據。"
      ],
      "metadata": {
        "id": "pDHhflLyJRgS"
      }
    },
    {
      "cell_type": "markdown",
      "source": [
        "## 摘要"
      ],
      "metadata": {
        "id": "hbqT3pl04Hl9"
      }
    },
    {
      "cell_type": "markdown",
      "source": [
        "本報告旨在應用 Python 網頁爬蟲技術，自 Steam 官方網站及第三方平台（如 Steam Charts）擷取熱門遊戲的排行榜、價格、玩家數據與評價資訊。透過資料整理與視覺化分析，觀察全球與台灣地區 Steam 遊戲市場的熱門趨勢、定價策略與消費行為，期望為遊戲產業研究與行銷策略提供實證依據。"
      ],
      "metadata": {
        "id": "eweMw-wh4TC0"
      }
    },
    {
      "cell_type": "markdown",
      "source": [
        "## 引言"
      ],
      "metadata": {
        "id": "9nb1aHAM4XiE"
      }
    },
    {
      "cell_type": "markdown",
      "source": [
        "隨著數位娛樂產業快速成長，Steam 已成為全球最大且影響力深遠的 PC 遊戲平台。玩家數據、銷售排行與價格波動等資訊，對於遊戲開發商與行銷單位來說皆具高度參考價值。\n",
        "\n",
        "第三方平台如 Steam Charts 提供即時玩家統計，能夠反映出遊戲熱度與市場反應。透過自動化資料擷取技術，可高效率取得龐大資料，進一步進行視覺化與趨勢分析。\n",
        "\n",
        "本次爬蟲的目標有兩部分：\n",
        "\n",
        "* 擷取 Steam 上全球與台灣的暢銷排行榜遊戲資訊，分析地域間趨勢差異。\n",
        "* 擷取 Steam Charts 上熱門遊戲的即時玩家數據，分析市場熱度與變化趨勢。"
      ],
      "metadata": {
        "id": "0ZmT034r5F9R"
      }
    },
    {
      "cell_type": "markdown",
      "source": [
        "## 方法"
      ],
      "metadata": {
        "id": "8YMFd39F4n4l"
      }
    },
    {
      "cell_type": "markdown",
      "source": [
        "- 目標網站描述\n",
        "  - 目標網站：\n",
        "    \n",
        "   * Steam 暢銷遊戲排行榜：https://store.steampowered.com/charts/topselling/\n",
        "   * Steam Charts 最多遊玩人數排行榜：https://steamcharts.com/top\n",
        "  \n",
        "  - 頁面結構：\n",
        "   \n",
        "   * Steam 暢銷排行榜：遊戲名稱、封面圖、目前價格、原價、評價比例、熱銷排名。\n",
        "   * Steam Charts 玩家榜：遊戲名稱、目前玩家數、歷史高峰人數、總平均玩家數\n",
        "   \n",
        "- 工具與技術\n",
        "  - 使用 Python 的 `requests` 庫發送 HTTP 請求。\n",
        "  - 使用 `BeautifulSoup` 解析 HTML。\n",
        "  - 使用 Google Chrome 開發者工具取得 AJAX 資料。\n",
        "  - 使用 pandas 進行資料整理與儲存\n"
      ],
      "metadata": {
        "id": "zkix6XqZ429E"
      }
    },
    {
      "cell_type": "markdown",
      "source": [
        "## Steam 全球熱門暢銷遊戲 Top 100"
      ],
      "metadata": {
        "id": "aIPHCfgvJefP"
      }
    },
    {
      "cell_type": "markdown",
      "source": [
        "先確認是否可以抓取資料， 200 為正確， 403 為禁止存取， 404 為網頁不存在， 503 為服務暫時無法使用。"
      ],
      "metadata": {
        "id": "IYkWe94Xp8WJ"
      }
    },
    {
      "cell_type": "code",
      "source": [
        "import requests\n",
        "import pandas as pd\n",
        "from bs4 import BeautifulSoup\n",
        "\n",
        "popular_url = 'https://store.steampowered.com/search/?filter=globaltopsellers&cc=TW&ndl=1'\n",
        "headers = {'User-Agent': 'Mozilla/5.0 (Windows NT 10.0; Win64; x64) AppleWebKit/537.36 (KHTML, like Gecko) Chrome/135.0.0.0 Safari/537.36 Edg/135.0.0.0',\n",
        "       'Accept-Language': 'zh-TW,zh;q=0.9',\n",
        "       'Cookie': 'steamCountry=TW; Steam_Language=tchinese'}\n",
        "response = requests.get(popular_url,headers=headers)\n",
        "response.status_code"
      ],
      "metadata": {
        "id": "ObUANqCNJ-xR",
        "colab": {
          "base_uri": "https://localhost:8080/"
        },
        "outputId": "bad4b984-cf23-4f9c-b7c1-e14541b48ca4"
      },
      "execution_count": 63,
      "outputs": [
        {
          "output_type": "execute_result",
          "data": {
            "text/plain": [
              "200"
            ]
          },
          "metadata": {},
          "execution_count": 63
        }
      ]
    },
    {
      "cell_type": "markdown",
      "source": [
        "藉由 Beautifulshop 抓取遊戲名稱、圖片網址、評價、價格、折扣幅度、遊戲連結，最後利用 pandas 製作表格存於 csv 檔中。"
      ],
      "metadata": {
        "id": "70bZiEGmqLM0"
      }
    },
    {
      "cell_type": "code",
      "source": [
        "import requests\n",
        "from bs4 import BeautifulSoup\n",
        "import pandas as pd\n",
        "import time\n",
        "\n",
        "# 用來儲存所有遊戲資料\n",
        "data = []\n",
        "# 初始排名\n",
        "rank = 1\n",
        "\n",
        "# Steam 一頁50筆，抓取前2頁共100筆\n",
        "for page in range(0, 50, 25):\n",
        "    popular_top100_url = f'https://store.steampowered.com/search/?filter=globaltopsellers&cc=TW&ndl=1&start={page}'\n",
        "    r = requests.get(popular_top100_url, headers=headers)\n",
        "    soup = BeautifulSoup(r.text, 'lxml')\n",
        "    games = soup.find_all('a', class_='search_result_row')\n",
        "    for game in games:\n",
        "        # 頁面連結\n",
        "        link = game['href']\n",
        "        # 圖片\n",
        "        img_tag = game.find('div', class_='col search_capsule').find('img')\n",
        "        img = img_tag['src'] if img_tag else '無圖片資訊'\n",
        "        # 名稱、價格、評價都在這個區塊\n",
        "        name_price_div = game.find('div', class_='responsive_search_name_combined')\n",
        "        # 名稱\n",
        "        name_text = name_price_div.find('div', class_='col search_name ellipsis')\n",
        "        name = name_text.find('span', class_='title').text.strip() if name_text else '無名稱資訊'\n",
        "        # 價格\n",
        "        price_div = name_price_div.find('div', class_='col search_price_discount_combined responsive_secondrow')\n",
        "        if price_div.find('div', class_='discount_block search_discount_block'):\n",
        "          discount = price_div.find('div', class_='discount_block search_discount_block')\n",
        "          rate = discount.find('div', class_='discount_pct').text.strip() # 折扣幅度\n",
        "          price_dis = discount.find('div', class_='discount_prices')\n",
        "          price = price_dis.find('div', class_='discount_final_price').text.strip() # 折扣後價格\n",
        "        elif price_div.find('div', class_='discount_block search_discount_block no_discount'):\n",
        "           no_discount = price_div.find('div', class_='discount_block search_discount_block no_discount')\n",
        "           rate = '無折扣'\n",
        "           price_nodis = no_discount.find('div', class_='discount_prices')\n",
        "           price = price_nodis.find('div', class_='discount_final_price').text.strip()\n",
        "        elif price_div.find('div', class_='discount_final_price free'):\n",
        "           rate = '無折扣'\n",
        "           price = '免費'\n",
        "        else:\n",
        "           rate = '無折扣'\n",
        "           price = '無價格資訊'\n",
        "        # 評價\n",
        "        review_div = name_price_div.find('div', class_='col search_reviewscore responsive_secondrow')\n",
        "        if review_div and review_div.span and 'data-tooltip-html' in review_div.span.attrs:\n",
        "            review_html = review_div.span['data-tooltip-html']\n",
        "            review_rate = review_html.split('<br>')[0]\n",
        "            review_tot = review_html.split('<br>')[-1]\n",
        "        else:\n",
        "          review_rate = '尚無評價'\n",
        "          review_tot = '尚無評價'\n",
        "        # 輸入資料到表格\n",
        "        data.append({\n",
        "            '排名': rank,\n",
        "            '遊戲名稱': name,\n",
        "            '圖片網址': img,\n",
        "            '評價比例': review_rate,\n",
        "            '總體評價': review_tot,\n",
        "            '折扣幅度': rate,\n",
        "            '目前價格': price,\n",
        "            '遊戲連結': link\n",
        "        })\n",
        "        rank += 1  # 排名遞增\n",
        "    time.sleep(3)  # 每抓一頁就停3秒\n",
        "\n",
        "# 儲存為 CSV\n",
        "df_G = pd.DataFrame(data)\n",
        "df_G.to_csv('steam_global_top100.csv', index=False, encoding='utf-8-sig')"
      ],
      "metadata": {
        "id": "_j5vSmwzd7um"
      },
      "execution_count": 65,
      "outputs": []
    },
    {
      "cell_type": "markdown",
      "source": [
        "## Steam 臺灣熱門暢銷遊戲 Top 100"
      ],
      "metadata": {
        "id": "lANoTpS60LSo"
      }
    },
    {
      "cell_type": "markdown",
      "source": [
        "先確認是否可以抓取資料， 200 為正確， 403 為禁止存取， 404 為網頁不存在， 503 為服務暫時無法使用。"
      ],
      "metadata": {
        "id": "48CjEYdmxkcS"
      }
    },
    {
      "cell_type": "code",
      "source": [
        "import requests\n",
        "import pandas as pd\n",
        "from bs4 import BeautifulSoup\n",
        "\n",
        "popularTW_url = 'https://store.steampowered.com/search/?cc=TW&ndl=1'\n",
        "headers = {'User-Agent': 'Mozilla/5.0 (Windows NT 10.0; Win64; x64) AppleWebKit/537.36 (KHTML, like Gecko) Chrome/135.0.0.0 Safari/537.36 Edg/135.0.0.0',\n",
        "       'Accept-Language': 'zh-TW,zh;q=0.9',\n",
        "       'Cookie': 'steamCountry=TW; Steam_Language=tchinese'}\n",
        "response = requests.get(popular_url,headers=headers)\n",
        "response.status_code"
      ],
      "metadata": {
        "colab": {
          "base_uri": "https://localhost:8080/"
        },
        "outputId": "ff966a9c-1053-4502-b280-0a1439fac8ca",
        "id": "cOdIN0hf0D-e"
      },
      "execution_count": 49,
      "outputs": [
        {
          "output_type": "execute_result",
          "data": {
            "text/plain": [
              "200"
            ]
          },
          "metadata": {},
          "execution_count": 49
        }
      ]
    },
    {
      "cell_type": "markdown",
      "source": [
        "藉由 Beautifulshop 抓取遊戲名稱、圖片網址、評價、價格、折扣幅度、遊戲連結，最後利用 pandas 製作表格存於 csv 檔中。"
      ],
      "metadata": {
        "id": "zE8shxVv0D-h"
      }
    },
    {
      "cell_type": "code",
      "source": [
        "import requests\n",
        "from bs4 import BeautifulSoup\n",
        "import pandas as pd\n",
        "import time\n",
        "\n",
        "# 用來儲存所有遊戲資料\n",
        "data = []\n",
        "# 初始排名\n",
        "rank = 1\n",
        "\n",
        "# Steam 一頁50筆，抓取前2頁共100筆\n",
        "for page in range(0, 50, 25):\n",
        "    popularTW_top100_url = f'https://store.steampowered.com/search/?cc=TW&ndl=1&start={page}'\n",
        "    r = requests.get(popularTW_top100_url, headers=headers)\n",
        "    soup = BeautifulSoup(r.text, 'lxml')\n",
        "    games = soup.find_all('a', class_='search_result_row')\n",
        "    for game in games:\n",
        "        # 頁面連結\n",
        "        link = game['href']\n",
        "        # 圖片\n",
        "        img_tag = game.find('div', class_='col search_capsule').find('img')\n",
        "        img = img_tag['src'] if img_tag else '無圖片資訊'\n",
        "        # 名稱、價格、評價都在這個區塊\n",
        "        name_price_div = game.find('div', class_='responsive_search_name_combined')\n",
        "        # 名稱\n",
        "        name_text = name_price_div.find('div', class_='col search_name ellipsis')\n",
        "        name = name_text.find('span', class_='title').text.strip() if name_text else '無名稱資訊'\n",
        "        # 價格\n",
        "        price_div = name_price_div.find('div', class_='col search_discount_and_price responsive_secondrow')\n",
        "        if price_div.find('div', class_='discount_block search_discount_block'):\n",
        "          discount = price_div.find('div', class_='discount_block search_discount_block')\n",
        "          rate = discount.find('div', class_='discount_pct').text.strip() # 折扣幅度\n",
        "          price_dis = discount.find('div', class_='discount_prices')\n",
        "          price = price_dis.find('div', class_='discount_final_price').contents[0].strip() # 折扣後價格\n",
        "        elif price_div.find('div', class_='discount_block search_discount_block no_discount'):\n",
        "           no_discount = price_div.find('div', class_='discount_block search_discount_block no_discount')\n",
        "           rate = '無折扣'\n",
        "           price_nodis = no_discount.find('div', class_='discount_prices')\n",
        "           price = price_nodis.find('div', class_='discount_final_price').contents[0].strip()\n",
        "        elif price_div.find('div', class_='discount_final_price free'):\n",
        "           rate = '無折扣'\n",
        "           price = '免費'\n",
        "        else:\n",
        "           rate = '無折扣'\n",
        "           price = '無價格資訊'\n",
        "        # 評價\n",
        "        review_div = name_price_div.find('div', class_='col search_reviewscore responsive_secondrow')\n",
        "        if review_div and review_div.span and 'data-tooltip-html' in review_div.span.attrs:\n",
        "            review_html = review_div.span['data-tooltip-html']\n",
        "            review_rate = review_html.split('<br>')[0]\n",
        "            review_tot = review_html.split('<br>')[-1]\n",
        "        else:\n",
        "          review_rate = '尚無評價'\n",
        "          review_tot = '尚無評價'\n",
        "        # 輸入資料到表格\n",
        "        data.append({\n",
        "            '排名': rank,\n",
        "            '遊戲名稱': name,\n",
        "            '圖片網址': img,\n",
        "            '評價比例': review_rate,\n",
        "            '總體評價': review_tot,\n",
        "            '折扣幅度': rate,\n",
        "            '目前價格': price,\n",
        "            '遊戲連結': link\n",
        "        })\n",
        "        rank += 1  # 排名遞增\n",
        "    time.sleep(3)  # 每抓一頁就停3秒\n",
        "\n",
        "# 儲存為 CSV\n",
        "df_TW = pd.DataFrame(data)\n",
        "df_TW.to_csv('steam_TW_top100.csv', index=False, encoding='utf-8-sig')"
      ],
      "metadata": {
        "id": "Uoez4Rua0D-i"
      },
      "execution_count": 50,
      "outputs": []
    },
    {
      "cell_type": "markdown",
      "source": [
        "## Steam 當前玩家最多的遊戲 Top 100"
      ],
      "metadata": {
        "id": "_TM_wtcQze90"
      }
    },
    {
      "cell_type": "markdown",
      "source": [
        "先確認是否可以抓取資料， 200 為正確， 403 為禁止存取， 404 為網頁不存在， 503 為服務暫時無法使用。"
      ],
      "metadata": {
        "id": "1v9llzx9ze92"
      }
    },
    {
      "cell_type": "code",
      "source": [
        "import requests\n",
        "import pandas as pd\n",
        "from bs4 import BeautifulSoup\n",
        "\n",
        "player_url = 'https://steamcharts.com/top'\n",
        "headers = {'User-Agent': 'Mozilla/5.0 (Windows NT 10.0; Win64; x64) AppleWebKit/537.36 (KHTML, like Gecko) Chrome/135.0.0.0 Safari/537.36 Edg/135.0.0.0',\n",
        "       'Accept-Language': 'zh-TW,zh;q=0.9',\n",
        "       'Cookie': 'steamCountry=TW; Steam_Language=tchinese'}\n",
        "response = requests.get(player_url,headers=headers)\n",
        "response.status_code"
      ],
      "metadata": {
        "colab": {
          "base_uri": "https://localhost:8080/"
        },
        "outputId": "42e7c106-5ed5-489f-a0c1-8dc28d17db02",
        "id": "eNVmBoLXze93"
      },
      "execution_count": 62,
      "outputs": [
        {
          "output_type": "execute_result",
          "data": {
            "text/plain": [
              "200"
            ]
          },
          "metadata": {},
          "execution_count": 62
        }
      ]
    },
    {
      "cell_type": "markdown",
      "source": [
        "藉由 Beautifulshop 抓取遊戲名稱、現在遊玩人數、最多遊玩人數，最後利用 pandas 製作表格存於 csv 檔中。"
      ],
      "metadata": {
        "id": "IccXSRYbze94"
      }
    },
    {
      "cell_type": "code",
      "source": [
        "import requests\n",
        "from bs4 import BeautifulSoup\n",
        "import pandas as pd\n",
        "import time\n",
        "\n",
        "# 用來儲存所有遊戲資料\n",
        "data = []\n",
        "# 初始排名\n",
        "rank = 1\n",
        "\n",
        "# SteamCharts 一頁25筆，抓取前4頁共100筆\n",
        "for page in range(1, 5, 1):\n",
        "    player_top100_url = f'https://steamcharts.com/top/p.{page}'\n",
        "    r = requests.get(player_top100_url, headers=headers)\n",
        "    soup = BeautifulSoup(r.text, 'lxml')\n",
        "    games = soup.find_all('tr', class_='odd')\n",
        "    for game in games:\n",
        "        # 遊戲名稱\n",
        "        name = game.find('td', class_='game-name left').find('a').text.strip()\n",
        "        # 現在遊玩人數\n",
        "        current_player = game.find('td', class_='num').text.strip()\n",
        "        # 最多遊玩人數\n",
        "        most_player = game.find('td', class_='num period-col peak-concurrent').text.strip()\n",
        "        # 輸入資料到表格\n",
        "        data.append({\n",
        "            '排名': rank,\n",
        "            '遊戲名稱': name,\n",
        "            '現在遊玩人數': current_player,\n",
        "            '最多遊玩人數': most_player,\n",
        "        })\n",
        "        rank += 1  # 排名遞增\n",
        "    time.sleep(3)  # 每抓一頁就停3秒\n",
        "\n",
        "# 儲存為 CSV\n",
        "df_player = pd.DataFrame(data)\n",
        "df_player.to_csv('steam_player_top100.csv', index=False, encoding='utf-8-sig')"
      ],
      "metadata": {
        "id": "ufXEpPzDze94"
      },
      "execution_count": 67,
      "outputs": []
    },
    {
      "cell_type": "markdown",
      "source": [
        "## 結果\n"
      ],
      "metadata": {
        "id": "mHEo_iad7QMa"
      }
    },
    {
      "cell_type": "markdown",
      "source": [
        "* 新遊戲迅速躋身排行榜，顯示出新遊戲在市場中獲得大量關注，並且通常會在發售初期快速進入銷售前列。\n",
        "\n",
        "\n",
        "* 無論是全球還是台灣排行榜，多人連線遊戲佔排行榜前列，顯示出競技性與社交屬性遊戲在市場中的主導地位。\n",
        "\n",
        "\n",
        "* 折扣幅度在促銷期會直接影響遊戲的銷量，許多玩家會在遊戲折扣幅度達到一定比例時進行購買，這不僅提高了遊戲的銷售量，也使得遊戲在市場上擁有更長的生命週期。"
      ],
      "metadata": {
        "id": "d6m5Qvgz6oyG"
      }
    },
    {
      "cell_type": "markdown",
      "source": [
        "## 問題與挑戰"
      ],
      "metadata": {
        "id": "6yHFop_b73gY"
      }
    },
    {
      "cell_type": "markdown",
      "source": [
        "- 技術挑戰  \n",
        " * 需透過 AJAX 取得資料。\n",
        " * Steam 頁面結構繁複，包含多層 JavaScript 載入機制。\n",
        " * 評價、價格等欄位格式不一，不易抓取。\n",
        " * 為取得中文與新台幣資料，需模擬台灣地區 IP、Cookie 與語系參數。\n",
        "- 資料限制  \n",
        " * 第三方平台資料非即時更新，可能造成與實際價格出現落差。\n",
        " * 部分新遊戲尚未累積玩家統計數據。"
      ],
      "metadata": {
        "id": "D6roihku8PBu"
      }
    },
    {
      "cell_type": "markdown",
      "source": [
        "## 結論"
      ],
      "metadata": {
        "id": "VeQHgVuqqD3J"
      }
    },
    {
      "cell_type": "markdown",
      "source": [
        "\n",
        "本次專題成功實作多網站、多頁面、多格式的資料蒐集與整合，包含 Steam 全球與台灣區排行榜、Steam Charts 玩家人數資料及第三方平台價格資訊。整體成果可提供：\n",
        "\n",
        "* 遊戲市場趨勢與地域偏好比較\n",
        "* 定價策略與促銷時間點分析\n",
        "* 消費者對熱門遊戲評價與購買行為初步洞察\n",
        "\n",
        "未來可進一步整合更多平台如 Epic、Xbox、PlayStation Store 等，擴展成跨平台資料庫，建立更完整的遊戲行銷資料科學應用模型。"
      ],
      "metadata": {
        "id": "Baea2g7J9DAL"
      }
    },
    {
      "cell_type": "markdown",
      "source": [
        "## 參考文獻"
      ],
      "metadata": {
        "id": "j5hI_9QW9dTt"
      }
    },
    {
      "cell_type": "markdown",
      "source": [
        "*  [Steam](https://store.steampowered.com/)\n",
        "*  [IsThereAnyDeal](https://isthereanydeal.com/)\n",
        "*  [Blog](https://blog.csdn.net/DDDHL_/article/details/111768725)"
      ],
      "metadata": {
        "id": "eLFvp2Fk9fSa"
      }
    }
  ]
}