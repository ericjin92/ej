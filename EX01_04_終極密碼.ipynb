{
  "nbformat": 4,
  "nbformat_minor": 0,
  "metadata": {
    "colab": {
      "provenance": [],
      "authorship_tag": "ABX9TyN5lcm/Ol9tf8J3qGQtA5nD",
      "include_colab_link": true
    },
    "kernelspec": {
      "name": "python3",
      "display_name": "Python 3"
    },
    "language_info": {
      "name": "python"
    }
  },
  "cells": [
    {
      "cell_type": "markdown",
      "metadata": {
        "id": "view-in-github",
        "colab_type": "text"
      },
      "source": [
        "<a href=\"https://colab.research.google.com/github/ericjin92/ej/blob/main/EX01_04_%E7%B5%82%E6%A5%B5%E5%AF%86%E7%A2%BC.ipynb\" target=\"_parent\"><img src=\"https://colab.research.google.com/assets/colab-badge.svg\" alt=\"Open In Colab\"/></a>"
      ]
    },
    {
      "cell_type": "code",
      "execution_count": 4,
      "metadata": {
        "colab": {
          "base_uri": "https://localhost:8080/"
        },
        "id": "NLizNcdYsF6N",
        "outputId": "0cebb579-8627-4f1c-ea40-166a5ed74493"
      },
      "outputs": [
        {
          "output_type": "stream",
          "name": "stdout",
          "text": [
            "0 - 100\n",
            "guess:50\n",
            "0 - 50\n",
            "guess:25\n",
            "25 - 50\n",
            "guess:35\n",
            "35 - 50\n",
            "guess:45\n",
            "35 - 45\n",
            "guess:40\n",
            "35 - 40\n",
            "guess:38\n",
            "38 - 40\n",
            "guess:39\n",
            "猜中\n"
          ]
        }
      ],
      "source": [
        "import random\n",
        "bomb = random.randint(1,99)\n",
        "lf = 0\n",
        "rt = 100\n",
        "while True:\n",
        "  print(lf,'-',rt)\n",
        "  gu = int(input('guess:'))\n",
        "  if gu <= lf or gu >= rt:\n",
        "    print('超過範圍')\n",
        "  elif gu < bomb:\n",
        "    lf = gu\n",
        "  elif gu > bomb:\n",
        "    rt = gu\n",
        "  else:\n",
        "    print('猜中')\n",
        "    break"
      ]
    }
  ]
}