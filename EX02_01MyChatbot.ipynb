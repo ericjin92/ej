{
  "nbformat": 4,
  "nbformat_minor": 0,
  "metadata": {
    "colab": {
      "provenance": [],
      "authorship_tag": "ABX9TyMboyWt+ecTPwJ4MsW3WzST",
      "include_colab_link": true
    },
    "kernelspec": {
      "name": "python3",
      "display_name": "Python 3"
    },
    "language_info": {
      "name": "python"
    }
  },
  "cells": [
    {
      "cell_type": "markdown",
      "metadata": {
        "id": "view-in-github",
        "colab_type": "text"
      },
      "source": [
        "<a href=\"https://colab.research.google.com/github/ericjin92/ej/blob/main/EX02_01MyChatbot.ipynb\" target=\"_parent\"><img src=\"https://colab.research.google.com/assets/colab-badge.svg\" alt=\"Open In Colab\"/></a>"
      ]
    },
    {
      "cell_type": "code",
      "source": [
        "from google.colab import userdata\n",
        "import google.generativeai as genai\n",
        "genai.configure(api_key=userdata.get('GOOGLE_API_KEY'))"
      ],
      "metadata": {
        "id": "pQflxRa-XQCj"
      },
      "execution_count": 2,
      "outputs": []
    },
    {
      "cell_type": "code",
      "source": [
        "generation_config = {\n",
        "    \"temperature\": 1,\n",
        "    \"max_output_tokens\": 102400,\n",
        "}\n",
        "model = genai.GenerativeModel(\n",
        "    model_name=\"gemini-2.0-flash\",\n",
        "    generation_config=generation_config\n",
        ")"
      ],
      "metadata": {
        "id": "jlFGsLk5XP2M"
      },
      "execution_count": 9,
      "outputs": []
    },
    {
      "cell_type": "code",
      "source": [
        "from IPython.display import Markdown, display\n",
        "chat = model.start_chat(history=[])\n",
        "while True:\n",
        "  message = input('YOU: ')\n",
        "  if message == \"BYE!\":\n",
        "    break\n",
        "  response = chat.send_message(message)\n",
        "  display(Markdown(response.text))"
      ],
      "metadata": {
        "colab": {
          "base_uri": "https://localhost:8080/",
          "height": 819
        },
        "id": "1ZT69nQCX7ps",
        "outputId": "ade85370-f540-4fe3-9830-1f617a2b5093"
      },
      "execution_count": 10,
      "outputs": [
        {
          "name": "stdout",
          "output_type": "stream",
          "text": [
            "YOU: hi\n"
          ]
        },
        {
          "output_type": "display_data",
          "data": {
            "text/plain": [
              "<IPython.core.display.Markdown object>"
            ],
            "text/markdown": "Hi there! How can I help you today?\n"
          },
          "metadata": {}
        },
        {
          "name": "stdout",
          "output_type": "stream",
          "text": [
            "YOU: what is ai?\n"
          ]
        },
        {
          "output_type": "display_data",
          "data": {
            "text/plain": [
              "<IPython.core.display.Markdown object>"
            ],
            "text/markdown": "AI, or Artificial Intelligence, is a broad field of computer science focused on creating machines that can perform tasks that typically require human intelligence. Think of it as teaching computers to \"think,\" learn, and solve problems like we do.\n\nHere's a breakdown of key aspects:\n\n*   **Mimicking Human Intelligence:** AI aims to replicate human cognitive functions such as learning, reasoning, problem-solving, perception (seeing, hearing, understanding), and language understanding.\n\n*   **Learning:** AI systems can learn from data through algorithms, enabling them to improve their performance without explicit programming. This is often done through machine learning.\n\n*   **Problem Solving:** AI systems can analyze complex situations, identify patterns, and make decisions to solve problems or achieve specific goals.\n\n*   **Types of AI:**\n\n    *   **Narrow or Weak AI:** Designed for a specific task (e.g., spam filtering, recommendation systems, playing chess). This is the type of AI we see most commonly today.\n    *   **General or Strong AI:** Hypothetical AI that possesses human-level intelligence and can perform any intellectual task that a human being can. This type doesn't yet exist.\n    *   **Super AI:** Hypothetical AI that surpasses human intelligence in all aspects, including creativity, problem-solving, and general wisdom. This is also purely theoretical.\n\n*   **Common AI Techniques:**\n\n    *   **Machine Learning (ML):** A type of AI where systems learn from data without being explicitly programmed. Common ML techniques include:\n        *   **Supervised Learning:** Training a model on labeled data (e.g., images labeled as \"cat\" or \"dog\").\n        *   **Unsupervised Learning:** Discovering patterns in unlabeled data (e.g., customer segmentation).\n        *   **Reinforcement Learning:** Training an agent to make decisions in an environment to maximize a reward (e.g., training a robot to walk).\n    *   **Deep Learning:** A subset of machine learning that uses artificial neural networks with multiple layers to analyze data. It's particularly effective for complex tasks like image recognition and natural language processing.\n    *   **Natural Language Processing (NLP):** Enabling computers to understand, interpret, and generate human language.\n    *   **Computer Vision:** Enabling computers to \"see\" and interpret images and videos.\n    *   **Robotics:** Designing and building robots that can perform tasks autonomously or with human guidance.\n\n*   **Applications of AI:** AI is used in a wide range of industries, including:\n\n    *   **Healthcare:** Diagnosis, drug discovery, personalized medicine.\n    *   **Finance:** Fraud detection, algorithmic trading, risk assessment.\n    *   **Transportation:** Self-driving cars, traffic optimization.\n    *   **Retail:** Recommendation systems, chatbots, supply chain management.\n    *   **Manufacturing:** Automation, quality control, predictive maintenance.\n    *   **Education:** Personalized learning, automated grading.\n\nIn short, AI is about making machines smarter and more capable of solving problems and performing tasks that typically require human intelligence. It's a rapidly evolving field with the potential to transform many aspects of our lives.\n\nDo you have any specific questions about AI that I can answer for you? For example, are you interested in a particular application of AI, a specific type of AI, or the ethical implications of AI?\n"
          },
          "metadata": {}
        },
        {
          "name": "stdout",
          "output_type": "stream",
          "text": [
            "YOU: BYE!\n"
          ]
        }
      ]
    }
  ]
}